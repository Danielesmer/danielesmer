{
 "cells": [
  {
   "cell_type": "markdown",
   "metadata": {},
   "source": [
    "\n",
    "<img style=\"float: left;;\" src='Figures/iteso.jpg' width=\"100\" height=\"200\"/></a>\n",
    "\n",
    "\n",
    "# <center> <font color= #000047> Bienvenidos al curso </font> </center>\n",
    "# <center> <font color= #000047> Elementos Finitos </font> </center>\n",
    "\n",
    "\n"
   ]
  },
  {
   "cell_type": "markdown",
   "metadata": {},
   "source": [
    "\n",
    "\n",
    "\n",
    "#### <font color= #2E9AFE>  Modalidad Virtual `Martes y Jueves  de 18:00hrs a 20:00 hrs`</font>\n",
    "- <Strong> Gaddiel Desirena López </Strong>\n",
    "\n",
    "\n",
    "- <Strong> Email: </Strong>  <font color=\"blue\"> gdesirena@iteso.mx </font>\n",
    "\n",
    "\n",
    "___"
   ]
  },
  {
   "cell_type": "markdown",
   "metadata": {},
   "source": [
    "#### <font color= #2E9AFE>  Presentación mía</font>\n",
    "\n",
    "#### <font color= #2E9AFE>  Presentación Alumnos</font>\n",
    "___"
   ]
  },
  {
   "cell_type": "markdown",
   "metadata": {},
   "source": [
    "### `Descripción de la asignatura`\n",
    "El curso de Elementos Finitos está diseñado para proporcionar a los estudiantes una comprensión profunda y práctica de este poderoso método de análisis numérico, ampliamente utilizado en ingeniería y ciencias aplicadas. A lo largo del curso, se cubrirán los fundamentos teóricos y las aplicaciones prácticas del método de elementos finitos (MEF) para resolver problemas complejos en campos como la mecánica estructural, la transferencia de calor, la dinámica de fluidos y más.\n",
    "\n",
    "___"
   ]
  },
  {
   "cell_type": "markdown",
   "metadata": {},
   "source": [
    "### `Objetivo General de la asignatura`\n",
    "\n",
    "Que el alumno resuelva problemas de campos como esfuerzos, deformaciones, temperaturas, desplazamientos, flujos, aplicando el método del elemento finito."
   ]
  },
  {
   "cell_type": "markdown",
   "metadata": {},
   "source": [
    "### `Temario`\n",
    "`Introducción.` \n",
    "\n",
    "   1. Historia\n",
    "   2. Software MEF\n",
    "   3. Glosario\n",
    "   \n",
    "`Módulo 1.` **EF en una dimensión**\n",
    "\n",
    "   1. Método de residuos ponderados y aproximaciones de Galerkin\n",
    "       - Soluciones Clásicas\n",
    "       - Formulación débil\n",
    "   2. Método de elementos finitos en una dimensión\n",
    "   3. Temas avanzados en problemas unidimensionales: simetría axial, sistemas no estacionarios, variaciones en los parámetros.\n",
    "   \n",
    "   \n",
    "`Módulo 2.`  **EF en dos dimensiones**\n",
    "\n",
    "   1. Elementos triangulares: funciones de forma, coordenadas locales.\n",
    "   2. Otros elementos planos y su formulación.\n",
    "   \n",
    "   \n",
    "   \n",
    "`Módulo 3.`  **EF en tres dimensiones**\n",
    "\n",
    "   1. Elementos volumétricos: tetraedro y hexaedro. Problema de un solo elemento.\n",
    "   2. Formulaciones para la mecánica de sólidos en elementos unidimensionales, elementos rectos en en el plano y elementos planos.\n",
    "   3. Formulaciones con combinación de fenómenos. Otros métodos derivados del Método de los Elementos Finitos.\n",
    "         \n",
    "   "
   ]
  },
  {
   "cell_type": "markdown",
   "metadata": {},
   "source": [
    "### `Prerequisitos`\n",
    "\n",
    "> Resistencia de Materiales, Transferencia de Calor, Álgebra Lineal, Métodos Numéricos.\n",
    "\n",
    "> Conocimiento de programación para solución de problemas numéricos (**Python-Numpy** o Matlab).\n"
   ]
  },
  {
   "cell_type": "markdown",
   "metadata": {},
   "source": [
    "### `Evaluación`\n",
    "\n",
    "**3 Módulos a evaluar**\n",
    "- **Examenes y pryectos 60%**\n",
    "- **Tareas y actividades de clase 40%**\n"
   ]
  },
  {
   "cell_type": "markdown",
   "metadata": {},
   "source": [
    "### `Criterios de Evaluación`\n",
    "\n",
    "- Entregar las tareas a tiempo, ordenadas, limpias y completas (plataforma [CANVAS](https://canvas.iteso.mx/courses/40829)).\n",
    "- Presentar ante el profesor las tareas resueltas para su discusión y crítica.\n",
    "- Modificar sistemas, datos, cargas, condiciones en la frontera, y obtener nuevos resultados.\n",
    "- Uso de Python (preferentemente), Mathcad, Mathematica o algún sistema para la solución de problemas.\n"
   ]
  },
  {
   "cell_type": "markdown",
   "metadata": {},
   "source": [
    " ### `Bibliografía`\n",
    "\n",
    "| Título  | Autor | Editorial, fecha|\n",
    "| :--- |:--- | :--- |\n",
    "| `The Finite Element Method` | Darrell W. Pepper, Juan C. Heinric | CRC, USA, 2017 |\n",
    "| `A First Course in the Finite Element Method, 2nd Ed. ` | Daryl L. Logan | PWS, USA, 1993 |\n",
    "| `Fundamentals of Finite Element Analysis` | David V. Hutton | McGraw-Hill, USA, 2004 |\n",
    "| `Applied Finite Element Analysis, 2nd Ed.` | Larry J. Segerlind | John Wiley, USA, 1984 |\n",
    "\n",
    "\n"
   ]
  },
  {
   "cell_type": "code",
   "execution_count": null,
   "metadata": {},
   "outputs": [],
   "source": []
  }
 ],
 "metadata": {
  "kernelspec": {
   "display_name": "Python 3 (ipykernel)",
   "language": "python",
   "name": "python3"
  },
  "language_info": {
   "codemirror_mode": {
    "name": "ipython",
    "version": 3
   },
   "file_extension": ".py",
   "mimetype": "text/x-python",
   "name": "python",
   "nbconvert_exporter": "python",
   "pygments_lexer": "ipython3",
   "version": "3.8.8"
  }
 },
 "nbformat": 4,
 "nbformat_minor": 2
}
