{
 "cells": [
  {
   "cell_type": "markdown",
   "metadata": {
    "slideshow": {
     "slide_type": "slide"
    }
   },
   "source": [
    "![Titulo](Imagenes/Titulos/Head1.png)"
   ]
  },
  {
   "cell_type": "markdown",
   "metadata": {
    "slideshow": {
     "slide_type": "slide"
    }
   },
   "source": [
    "# Glosario de términos usados en MEF"
   ]
  },
  {
   "cell_type": "markdown",
   "metadata": {
    "slideshow": {
     "slide_type": "slide"
    }
   },
   "source": [
    "__Dominio__: Se refiere a un sistema continuo (o región) que es gobernado por ciertas leyes de la física. En una estructura el dominio puede ser una viga o toda una armadura. En ingeniería mecánica, un dominio puede ser una pieza  o un volumen de control por el que circula un fluido."
   ]
  },
  {
   "cell_type": "markdown",
   "metadata": {
    "slideshow": {
     "slide_type": "slide"
    }
   },
   "source": [
    "__Ecuaciones de comportamiento__ (governing equations): Las ecuaciones de comportamiento de un sistema son las ecuaciones derivadas de la física del sistema. Muchos sistemas en ingeniería se pueden describir usando ecuaciones de comportamiento, que determinan las características y comportamiento del sistema."
   ]
  },
  {
   "cell_type": "markdown",
   "metadata": {
    "slideshow": {
     "slide_type": "slide"
    }
   },
   "source": [
    "__Condiciones de frontera__: Las condiciones de frontera de una función son los valores de la función en el borde (o límite) de alguna de sus variables. El conocer algunas condiciones de frontera es un requisito para resolver problemas en ingeniería o para determinar una función desconocida. "
   ]
  },
  {
   "cell_type": "markdown",
   "metadata": {
    "slideshow": {
     "slide_type": "slide"
    }
   },
   "source": [
    "__Elemento__: Un elemento es una porción del dominio que tiene normalmente una figura sencilla como un triangulo o cuadrilátero (2D) o un tetraedro o un prisma (3D). "
   ]
  },
  {
   "cell_type": "markdown",
   "metadata": {
    "slideshow": {
     "slide_type": "slide"
    }
   },
   "source": [
    "__Nodo__: Un nodo es un punto en el dominio, y es normalmente el vértice de varios elementos. Un nodo también puede ser llamado _punto nodal_."
   ]
  },
  {
   "cell_type": "markdown",
   "metadata": {
    "slideshow": {
     "slide_type": "slide"
    }
   },
   "source": [
    "__Malla__ (mesh o grid): Los elementos y nodos, juntos, forman una malla, que es la estructura de datos central en MEF."
   ]
  },
  {
   "cell_type": "markdown",
   "metadata": {
    "slideshow": {
     "slide_type": "slide"
    }
   },
   "source": [
    "__Generación de la malla__: La mayoría de los software MEF automáticamente generan la malla refinada para obtener resultados precisos. Para análisis en gran escala o complejos y debido a la gran cantidad de cálculos y la facilidad de cometer errores resulta imperativo que las mallas sean generadas por computadoras. Existen una gran cantidad de algoritmos para generación de mallas."
   ]
  },
  {
   "cell_type": "markdown",
   "metadata": {
    "slideshow": {
     "slide_type": "slide"
    }
   },
   "source": [
    "__Análisis de Elemento Finito Lineal (FEA)__: Se refiere al análisis de sistemas cuando se asume que el sistema es: (1) estático, (2) los desplazamientos son pequeños, (3) el material es linealmente elástico. "
   ]
  },
  {
   "cell_type": "markdown",
   "metadata": {
    "slideshow": {
     "slide_type": "slide"
    }
   },
   "source": [
    "__Análisis de Elemento Finito No Lineal__: Se refiere al análisis de sistemas cuando el comportamiento del material no es lineal o cuando ocurren grandes deformaciones."
   ]
  },
  {
   "cell_type": "markdown",
   "metadata": {
    "slideshow": {
     "slide_type": "slide"
    }
   },
   "source": [
    "__Ensamblar matrices__: Procesos de colocar la información del comportamiento de un elemento (típicamente una matriz de No. nodos x No. de grados de libertad por nodo) en una matriz que contenga la información del comportamiento de todo el sistema."
   ]
  }
 ],
 "metadata": {
  "celltoolbar": "Slideshow",
  "kernelspec": {
   "display_name": "Python 3",
   "language": "python",
   "name": "python3"
  },
  "language_info": {
   "codemirror_mode": {
    "name": "ipython",
    "version": 3
   },
   "file_extension": ".py",
   "mimetype": "text/x-python",
   "name": "python",
   "nbconvert_exporter": "python",
   "pygments_lexer": "ipython3",
   "version": "3.7.4"
  }
 },
 "nbformat": 4,
 "nbformat_minor": 4
}
