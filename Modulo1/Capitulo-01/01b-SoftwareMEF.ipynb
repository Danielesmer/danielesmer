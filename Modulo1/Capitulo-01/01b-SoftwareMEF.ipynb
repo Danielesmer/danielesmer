{
 "cells": [
  {
   "cell_type": "markdown",
   "metadata": {
    "slideshow": {
     "slide_type": "slide"
    }
   },
   "source": [
    "![Titulo](Imagenes/Titulos/Head1.png)"
   ]
  },
  {
   "cell_type": "markdown",
   "metadata": {
    "slideshow": {
     "slide_type": "slide"
    }
   },
   "source": [
    "# Software MEF "
   ]
  },
  {
   "cell_type": "markdown",
   "metadata": {
    "slideshow": {
     "slide_type": "slide"
    }
   },
   "source": [
    "Al utilizar el __MEF__ nos permite resolver problemas diversos dividiendo el __dominio__ en __elementos__ pequeños que tienen un comportamiento relativamente más sencillo.  Sin embargo, el generar, analizar, integrar estos elementos normalmente implica numerosas operaciones repetitivas por lo que se dificulta mucho su solución manual. Para hacer este trabajo de manera eficiente y con menos posibilidad de cometer errores resulta muy útil el uso de computadoras y _softwares_. Algunos de estos _softwares_ forman parte de la historia del __MEF__ porque han sido el campo de experimentación y desarrollo del método. "
   ]
  },
  {
   "cell_type": "markdown",
   "metadata": {
    "slideshow": {
     "slide_type": "slide"
    }
   },
   "source": [
    "## ANSYS"
   ]
  },
  {
   "cell_type": "markdown",
   "metadata": {
    "slideshow": {
     "slide_type": "slide"
    }
   },
   "source": [
    "![Ansys logo](Imagenes/historia/220px-ANSYS_logo_without-blur.png)"
   ]
  },
  {
   "cell_type": "markdown",
   "metadata": {
    "slideshow": {
     "slide_type": "slide"
    }
   },
   "source": [
    "Ansys es, sin duda, uno de los _softwares_ que más ha influenciado el desarrollo del __MEF__ y su popularización. La idea de Ansys fue concebida originalmente por John Swanson mientras trabajaba en el Westinghouse Astronuclear Laboratory en los años 60. En esas fechas los ingenieros utilizaban el Método de los Elementos Finitos a mano. Westinghouse rechazó la idea de automatizar el MEF desarrollando un software de ingeniería de propósito general, por lo que Swanson decidió dejar la compañía en 1969 y desarrollar el software por su cuenta. El fundó Ansys bajo el nombre de Swanson __An__alysis __Sys__tems Inc. (SASI) el año siguiente, trabajando en su granja en Pittsburgh.\n",
    "\n",
    "Swanson desarrolló el software Ansys original en tarjetas perforadas y usaba una computadora mainframe que rentaba por hora. Westinghouse contrató a Swanson como consultor, con la condición de que cualquier código desarrollado para Westinghouse podría ser incluido en la línea de productos de Ansys. Westinghouse fue también el primer usuario de Ansys."
   ]
  },
  {
   "cell_type": "markdown",
   "metadata": {
    "slideshow": {
     "slide_type": "slide"
    }
   },
   "source": [
    "## Solidworks (disponible en la universidad)"
   ]
  },
  {
   "cell_type": "markdown",
   "metadata": {
    "slideshow": {
     "slide_type": "slide"
    }
   },
   "source": [
    "![Solidworks logo](Imagenes/historia/solidworks.png)"
   ]
  },
  {
   "cell_type": "markdown",
   "metadata": {
    "slideshow": {
     "slide_type": "slide"
    }
   },
   "source": [
    "Solidworks es un software de diseño mecánico 3D que ha integrado desde su inicio el modelado paramétrico, con la idea de __bocetos__ (sketch) y __operaciones__ (extrusiones, rotaciones, etc.). Con el tiempo ha ido integrando otras herramientas de ingeniería, entre las que se encuentran modulos __CAE__ (del inglés Computer Aided Engineering) que utilizan el __MEF__."
   ]
  },
  {
   "cell_type": "markdown",
   "metadata": {
    "slideshow": {
     "slide_type": "slide"
    }
   },
   "source": [
    "![Solidworks FEM](Imagenes/historia/Solidworks-FEM.jpg)"
   ]
  },
  {
   "cell_type": "markdown",
   "metadata": {
    "slideshow": {
     "slide_type": "slide"
    }
   },
   "source": [
    "## Comsol (disponible en la universidad)"
   ]
  },
  {
   "cell_type": "markdown",
   "metadata": {
    "slideshow": {
     "slide_type": "slide"
    }
   },
   "source": [
    "Comsol es un software de análisis especializado en __FEM__ y basado principalmente en __Matlab__. Es un software más de aplicación académica que industrial pero sobresale en la posibilidad de modelar múltiples fenómenos en un solo sistema (Multiphysics)"
   ]
  },
  {
   "cell_type": "markdown",
   "metadata": {
    "slideshow": {
     "slide_type": "slide"
    }
   },
   "source": [
    "![Solidworks FEM](Imagenes/historia/Comsol.png)"
   ]
  },
  {
   "cell_type": "markdown",
   "metadata": {
    "slideshow": {
     "slide_type": "slide"
    }
   },
   "source": [
    "### Otros softwares\n",
    "\n",
    "Existen gran cantidad de softwares de análisis __MEF__ de distintas licencias y muchos de ellos son campos de investigación y desarrollo del método en si, ya sea en la integración de fenómenos, elementos o interpolaciones novedosas así como desarrllos en los sistemas de solución.\n",
    "\n",
    "Un buen compendio se encuentra en: [Wikipedia FEM softwares](https://en.wikipedia.org/wiki/List_of_finite_element_software_packages)"
   ]
  }
 ],
 "metadata": {
  "celltoolbar": "Slideshow",
  "kernelspec": {
   "display_name": "Python 3",
   "language": "python",
   "name": "python3"
  },
  "language_info": {
   "codemirror_mode": {
    "name": "ipython",
    "version": 3
   },
   "file_extension": ".py",
   "mimetype": "text/x-python",
   "name": "python",
   "nbconvert_exporter": "python",
   "pygments_lexer": "ipython3",
   "version": "3.7.4"
  }
 },
 "nbformat": 4,
 "nbformat_minor": 4
}
