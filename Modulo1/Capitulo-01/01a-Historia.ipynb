{
 "cells": [
  {
   "cell_type": "markdown",
   "metadata": {
    "slideshow": {
     "slide_type": "slide"
    }
   },
   "source": [
    "![Logo1](Imagenes/Titulos/Head1.png)"
   ]
  },
  {
   "cell_type": "markdown",
   "metadata": {
    "slideshow": {
     "slide_type": "slide"
    }
   },
   "source": [
    "# Breve historia del Método de los Elementos Finitos"
   ]
  },
  {
   "cell_type": "markdown",
   "metadata": {
    "slideshow": {
     "slide_type": "slide"
    }
   },
   "source": [
    "Una introducción a este método no podría estar completo sin una breve revisión a su historia. La historia del __Método de los Elementos Finitos__(MEF o FEM en inglés) es particularmente interesante porque su historia es relativamente reciente: el método existe apenas desde mediados de los años cincuenta. "
   ]
  },
  {
   "cell_type": "markdown",
   "metadata": {
    "slideshow": {
     "slide_type": "slide"
    }
   },
   "source": [
    "### Antecedentes\n",
    "\n",
    "Aunque el __MEF__ fue desarrollado a partir de los años cincuenta el desarrollo matemático que lo sustenta fue establecido al inicio del siglo XX."
   ]
  },
  {
   "cell_type": "markdown",
   "metadata": {
    "slideshow": {
     "slide_type": "slide"
    }
   },
   "source": [
    "El desarrollo de los procedimientos del cálculo varacional fueron presentados por __Rayleigh__ (1877) y __Ritz__ (1909). Esta base teórica (referida como Rayleigh-Ritz) explica porque el método funciona. Sin embargo, este planteamiento está limitado a cierto tipo de problemas (difusión lineal) y no permite la solución de problemas con comportamientos diferentes (en particular problemas que tienen que ver con comportamiento de fluidos). "
   ]
  },
  {
   "cell_type": "markdown",
   "metadata": {
    "slideshow": {
     "slide_type": "slide"
    }
   },
   "source": [
    "Unos años después, en 1915, __Galerkin__ propuso un método a partir del __método de los residuos ponderados__ que provee de una base teórica para un espectro mucho más amplio de problemas."
   ]
  },
  {
   "cell_type": "markdown",
   "metadata": {
    "slideshow": {
     "slide_type": "slide"
    }
   },
   "source": [
    "Estos desarrollos son fundamentales para el desarrollo de este curso ya que será precisamente la aplicación de estos métodos lo que será estudiado."
   ]
  },
  {
   "cell_type": "markdown",
   "metadata": {
    "slideshow": {
     "slide_type": "slide"
    }
   },
   "source": [
    "### 1940's\n",
    "\n",
    "Los primeros trabajos en la solución numérica de problemas de elementos de frontera se pueden encontrar al uso del método de las diferencias finitas; __Southwell__ (1946) discutió el uso de estos métodos en su libro publicado a mediados de los años cuarenta. El método de las diferencias finitas es un método en el que el dominio se divide por segmentos o áreas de la misma geometría y tamaño y, por lo tanto, está limitado a geometrías sencillas o regulares."
   ]
  },
  {
   "cell_type": "markdown",
   "metadata": {
    "slideshow": {
     "slide_type": "slide"
    }
   },
   "source": [
    "El inicio del MEF surge de esos métodos numéricos y la frustración de asociada a intentar utilizar el método de las diferencias finitas en problemas con geometrías irregulares y, por lo tanto más difíciles (__Roache__, 1972, 1998)."
   ]
  },
  {
   "cell_type": "markdown",
   "metadata": {
    "slideshow": {
     "slide_type": "slide"
    }
   },
   "source": [
    "![Diferencias finitas](Imagenes/historia/Finite_Differences.png)"
   ]
  },
  {
   "cell_type": "markdown",
   "metadata": {
    "slideshow": {
     "slide_type": "slide"
    }
   },
   "source": [
    "![Diferencias finitas](Imagenes/historia/fem_2d.jpg)"
   ]
  },
  {
   "cell_type": "markdown",
   "metadata": {
    "slideshow": {
     "slide_type": "slide"
    }
   },
   "source": [
    "### 1950's\n",
    "\n",
    "Iniciando a mediados de los años cincuenta los esfuerzos de resolver problemas continuos en elasticidad usando __elementos__ discretos pequeños para describir el comportamiento global de barras elásticas simples comenzó a aparecer.\n",
    "\n",
    "En este tiempo se empezaron a desarrollar estructuras celulares para crear alas de aviones. El análisis de estas estructuras no era sencillo utilizando los métodos analíticos tradicionales ni con diferencias finitas dada la complejidad de las geometrías."
   ]
  },
  {
   "cell_type": "markdown",
   "metadata": {
    "slideshow": {
     "slide_type": "slide"
    }
   },
   "source": [
    "![Primeros Jets](Imagenes/historia/Messerschmitt_Me_262.jpg)"
   ]
  },
  {
   "cell_type": "markdown",
   "metadata": {
    "slideshow": {
     "slide_type": "slide"
    }
   },
   "source": [
    "![Primeros Jets](Imagenes/historia/Gloster_Meteor_III.jpg)"
   ]
  },
  {
   "cell_type": "markdown",
   "metadata": {
    "slideshow": {
     "slide_type": "slide"
    }
   },
   "source": [
    "[Argyris](https://en.wikipedia.org/wiki/John_Argyris) (1954) y __Turner__ et al. (1956) fueron los primeros en publicar el uso de dichas técnicas para la industria aeronáutica. "
   ]
  },
  {
   "cell_type": "markdown",
   "metadata": {
    "slideshow": {
     "slide_type": "slide"
    }
   },
   "source": [
    "![Argyris 1945](Imagenes/historia/Argyris1954-Wing.png)\n",
    "<div style=\"text-align: right\">(Fuente: Argyris 1945)</div>"
   ]
  },
  {
   "cell_type": "markdown",
   "metadata": {
    "slideshow": {
     "slide_type": "slide"
    }
   },
   "source": [
    "![Argyris 1945](Imagenes/historia/Argyris1954-Ensamble.png)\n",
    "<div style=\"text-align: right\">(Fuente: Argyris 1945)</div>"
   ]
  },
  {
   "cell_type": "markdown",
   "metadata": {
    "slideshow": {
     "slide_type": "slide"
    }
   },
   "source": [
    "![Turner et al.](Imagenes/historia/Turner-PlacaRectangular.png)\n",
    "<div style=\"text-align: right\">(Fuente: Turner et al. 1956)</div>"
   ]
  },
  {
   "cell_type": "markdown",
   "metadata": {
    "slideshow": {
     "slide_type": "slide"
    }
   },
   "source": [
    "### 1960's\n",
    "\n",
    "Hasta el año de 1960 en nombre __elemento finito__ no existía y se encuentra por primera vez en un artículo escrito por [Clough](https://en.wikipedia.org/wiki/Ray_William_Clough).\n",
    "\n",
    "Los primeros usos que se le dio al método fueron en problemas relacionados con resistencia de materiales (análisis estructural). Sin embargo pronto fue reconocida la versatibilidad del método para problemas no estructurales.\n",
    "\n",
    "__Zienkiewicz__ y __Cheung__ (1965) fueron de los primeros de aplicar el __MEF__ a problemas de _campos_ (ej. conducción de calor, flujo de fluidos, etc.) que involucraban las ecuaciones de Laplace y Poisson."
   ]
  },
  {
   "cell_type": "markdown",
   "metadata": {
    "slideshow": {
     "slide_type": "slide"
    }
   },
   "source": [
    "![Clough](Imagenes/historia/Clough-PlaneStress.png)"
   ]
  },
  {
   "cell_type": "markdown",
   "metadata": {
    "slideshow": {
     "slide_type": "slide"
    }
   },
   "source": [
    "![Clough](Imagenes/historia/Cllough-Thick-WalledCylinder.png)"
   ]
  },
  {
   "cell_type": "markdown",
   "metadata": {
    "slideshow": {
     "slide_type": "slide"
    }
   },
   "source": [
    "![Clough](Imagenes/historia/Clough-PlateEllipticHole.png)"
   ]
  },
  {
   "cell_type": "markdown",
   "metadata": {
    "slideshow": {
     "slide_type": "slide"
    }
   },
   "source": [
    "### 1970's\n",
    "\n",
    "Buena parte del trabajo desarrollado para sistemas no lineales se puede encontrar en __Oden__ (1972), mientras que los primeros esfuerzos de utilizarlo para problemas de transferencia de calor con fronteras complejas son discutidas por __Huebner__ (1975); un modelo 3D para conducción de calor fue descrito por __Heuser__ (1972). Las primeras aplicaciones del __MEF__ para flujo de fluidos viscosos fue dado por __Baker__ (1971)."
   ]
  },
  {
   "cell_type": "markdown",
   "metadata": {
    "slideshow": {
     "slide_type": "slide"
    }
   },
   "source": [
    "### 1980 y posteriores\n",
    "\n",
    "Es importante enfatizar que el __MEF__ sigue siendo activamente desarrollado y ampliado. En la próxima gráfica se muestra el número de publicaciones académicas que tienen como tema el uso de este método para ingeniería eléctrica desde 1970 hasta el 2005. "
   ]
  },
  {
   "cell_type": "markdown",
   "metadata": {
    "slideshow": {
     "slide_type": "slide"
    }
   },
   "source": [
    "![Clough](Imagenes/historia/ArticulosFEM.png)"
   ]
  },
  {
   "cell_type": "code",
   "execution_count": null,
   "metadata": {},
   "outputs": [],
   "source": []
  }
 ],
 "metadata": {
  "celltoolbar": "Slideshow",
  "kernelspec": {
   "display_name": "Python 3 (ipykernel)",
   "language": "python",
   "name": "python3"
  },
  "language_info": {
   "codemirror_mode": {
    "name": "ipython",
    "version": 3
   },
   "file_extension": ".py",
   "mimetype": "text/x-python",
   "name": "python",
   "nbconvert_exporter": "python",
   "pygments_lexer": "ipython3",
   "version": "3.8.8"
  },
  "toc-autonumbering": false,
  "toc-showcode": true,
  "toc-showmarkdowntxt": false,
  "toc-showtags": false
 },
 "nbformat": 4,
 "nbformat_minor": 4
}
